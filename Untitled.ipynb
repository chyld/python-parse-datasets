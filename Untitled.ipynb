{
 "cells": [
  {
   "cell_type": "code",
   "execution_count": 1,
   "metadata": {},
   "outputs": [],
   "source": [
    "%run csvreader.py"
   ]
  },
  {
   "cell_type": "code",
   "execution_count": 2,
   "metadata": {},
   "outputs": [
    {
     "name": "stdout",
     "output_type": "stream",
     "text": [
      "Variable   Type             Data/Info\n",
      "-------------------------------------\n",
      "csv        module           <module 'csv' from '/home<...>DT/lib/python3.8/csv.py'>\n",
      "data       list             n=20\n",
      "f          TextIOWrapper    <_io.TextIOWrapper name='<...>ode='r' encoding='UTF-8'>\n",
      "matrix     list             n=100\n",
      "np         module           <module 'numpy' from '/ho<...>kages/numpy/__init__.py'>\n",
      "npmatrix   ndarray          100x20: 2000 elems, type `float64`, 16000 bytes\n",
      "reader     reader           <_csv.reader object at 0x7feca1e52900>\n",
      "row        list             n=20\n"
     ]
    }
   ],
   "source": [
    "whos"
   ]
  },
  {
   "cell_type": "code",
   "execution_count": 4,
   "metadata": {},
   "outputs": [
    {
     "data": {
      "text/plain": [
       "(100, 20)"
      ]
     },
     "execution_count": 4,
     "metadata": {},
     "output_type": "execute_result"
    }
   ],
   "source": [
    "npmatrix.shape"
   ]
  },
  {
   "cell_type": "code",
   "execution_count": 7,
   "metadata": {},
   "outputs": [
    {
     "data": {
      "text/plain": [
       "10.473897196632514"
      ]
     },
     "execution_count": 7,
     "metadata": {},
     "output_type": "execute_result"
    }
   ],
   "source": [
    "npmatrix.sum(axis=0)[3]"
   ]
  },
  {
   "cell_type": "code",
   "execution_count": null,
   "metadata": {},
   "outputs": [],
   "source": []
  },
  {
   "cell_type": "code",
   "execution_count": 14,
   "metadata": {},
   "outputs": [],
   "source": [
    "%run jsonreader.py"
   ]
  },
  {
   "cell_type": "code",
   "execution_count": 29,
   "metadata": {},
   "outputs": [
    {
     "name": "stdout",
     "output_type": "stream",
     "text": [
      "es\n",
      "en\n",
      "en\n",
      "en\n",
      "en\n",
      "en\n",
      "tr\n",
      "en\n",
      "en\n",
      "en\n",
      "es\n",
      "it\n",
      "en\n",
      "en\n",
      "en\n",
      "de\n",
      "en\n",
      "es\n",
      "es\n",
      "es\n",
      "en\n",
      "en\n",
      "pt\n",
      "tr\n",
      "en\n",
      "en\n",
      "en\n",
      "de\n",
      "en\n",
      "en\n",
      "en\n",
      "en\n",
      "en\n",
      "en\n",
      "en\n",
      "it\n",
      "es\n",
      "it\n",
      "en-gb\n",
      "en\n",
      "en\n",
      "en\n",
      "en\n",
      "it\n",
      "en\n",
      "it\n",
      "en\n",
      "en\n",
      "en\n",
      "en\n",
      "es\n",
      "es\n",
      "en\n",
      "en\n",
      "en\n",
      "it\n",
      "en\n",
      "es\n",
      "en\n",
      "en\n",
      "en\n",
      "tr\n",
      "en\n",
      "en\n",
      "en\n",
      "en\n",
      "en\n",
      "zh-cn\n",
      "en\n",
      "en\n",
      "en\n",
      "en\n",
      "en\n",
      "en\n",
      "en\n",
      "hu\n",
      "es\n",
      "en\n",
      "en\n",
      "en\n",
      "en\n",
      "it\n",
      "en\n",
      "en\n",
      "en\n",
      "en\n",
      "en\n",
      "en\n",
      "en\n",
      "en-gb\n",
      "es\n",
      "en\n",
      "en\n",
      "es\n",
      "es\n",
      "de\n",
      "tr\n",
      "en\n",
      "en\n",
      "en\n",
      "en\n",
      "en\n",
      "en-gb\n",
      "es\n",
      "es\n",
      "en\n",
      "en\n",
      "es\n",
      "en\n",
      "it\n",
      "en\n",
      "fr\n",
      "en\n",
      "tr\n",
      "en\n",
      "en\n",
      "en\n",
      "es\n",
      "es\n",
      "en\n",
      "es\n",
      "tr\n"
     ]
    }
   ],
   "source": [
    "for line in lines:\n",
    "    print(line['user']['lang'])"
   ]
  },
  {
   "cell_type": "code",
   "execution_count": null,
   "metadata": {},
   "outputs": [],
   "source": []
  }
 ],
 "metadata": {
  "kernelspec": {
   "display_name": "Python 3",
   "language": "python",
   "name": "python3"
  },
  "language_info": {
   "codemirror_mode": {
    "name": "ipython",
    "version": 3
   },
   "file_extension": ".py",
   "mimetype": "text/x-python",
   "name": "python",
   "nbconvert_exporter": "python",
   "pygments_lexer": "ipython3",
   "version": "3.8.5"
  }
 },
 "nbformat": 4,
 "nbformat_minor": 4
}
